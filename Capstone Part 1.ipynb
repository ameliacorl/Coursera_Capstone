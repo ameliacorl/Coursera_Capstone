{
    "nbformat_minor": 1, 
    "cells": [
        {
            "source": "# Capstone Project Report: Identifying Medically Underserved Communities in NYC", 
            "cell_type": "markdown", 
            "metadata": {
                "collapsed": true
            }
        }, 
        {
            "source": "## Introduction", 
            "cell_type": "markdown", 
            "metadata": {}
        }, 
        {
            "source": "In the field of public health, there is a great need for data and data analysis regarding who has access to medical care and who does not. This problem concerns public health practitioners, physicians, community leaders, and governments at the local and state level. Ideally, everyone would have equal access to healthcare. Unfortunately, this is not the case. There are many social and structural disparities that keep people in one area at a lower level of health than those in another. One such disparity is location of major medical centers. Some areas, typically areas with many low-income families, do not have a local hospital where they can receive quality care. In this project, I will be using the FourSquare data to map which boroughs in New York City are medically underserved.", 
            "cell_type": "markdown", 
            "metadata": {}
        }, 
        {
            "source": "## Data", 
            "cell_type": "markdown", 
            "metadata": {}
        }, 
        {
            "source": "For this project, I will be using the FourSquare data, specifically the data regarding hospital location, to identify which NYC boroughs do not have enough accessible medical centers nearby. \nIn order to do this, I will be using the NYC data we used in Week 3 to return a list of the boroughs of New York City. I will then use their location to conduct a FourSquare search (originally, I intended to use the geopy geocoder for location, but unfortunately, it came to my attention that the coordinates for a few boroughs were incorrect, so I entered them manually instead).\nI will be doing five FourSquare searches, one for each borough. I am searching within a one mile radius of the center of each borough for the term 'hospital' and I included the results for analysis that fell  into the category 'Hospital', 'Medical Center', or 'Emergency Room'. Although access to primary care is also important, in this case we were looking at access to urgent care.", 
            "cell_type": "markdown", 
            "metadata": {}
        }, 
        {
            "source": "## Methodology", 
            "cell_type": "markdown", 
            "metadata": {}
        }, 
        {
            "source": "After making my five FourSquare searches, I created a DataFrame of all the results, sorted by borough. I then grouped the results by borough and used the count function to figure out how many results were in each borough. This gave us some idea of which boroughs had a higher density of medical facilities, but to make it even clearer, I made a map of New York City with each hospital, medical center, and emergenc room plotted. Note: the map does not show every single medical facility in the city, only the ones within a mile of each borough center. The purpose of this is to show density of medical services in each borough.", 
            "cell_type": "markdown", 
            "metadata": {}
        }, 
        {
            "source": "## Results", 
            "cell_type": "markdown", 
            "metadata": {}
        }, 
        {
            "source": "From my analysis, I found that Manhattan had the most medical facilities by far (20). Both Brooklyn (10) and Queens (11) had a moderate medical density, but The Bronx (5) and Staten Island (1) were found to have very low numbers of medical facilities. This is also demonstrated by the map.", 
            "cell_type": "markdown", 
            "metadata": {}
        }, 
        {
            "source": "## Discussion", 
            "cell_type": "markdown", 
            "metadata": {}
        }, 
        {
            "source": "Based on my results, I can recommend that if providers or community leaders were looking for an area to build a practice or allot more resources , the appropriate place would be Staten Island or the Bronx. If no additional medical facilities could be built in these areas, public health leaders might consider a transportation program that would allow those in need to visit medical facilities in a neighboring borough.", 
            "cell_type": "markdown", 
            "metadata": {}
        }, 
        {
            "source": "## Conclusion", 
            "cell_type": "markdown", 
            "metadata": {}
        }, 
        {
            "source": "Although there may be other reasons why Manhattan has many medical facilities and Staten Island has few (relative population, centrality of resources), as far as our simple analysis goes, it seems clear that if stakeholders are interested in serving those who lack access to medical care, the place to go would be Staten Island or the Bronx. Before this could be translated into action, more research would have to be done on the needs of the population of those boroughs. In public health, data analysis like this is important, but it's also followed up by on-the-ground collaboration with communities.", 
            "cell_type": "markdown", 
            "metadata": {}
        }, 
        {
            "source": "### I hope you enjoyed my project! It was simple, but relevant to my professional field, and fun to work on. Thanks for reviewing!", 
            "cell_type": "markdown", 
            "metadata": {}
        }
    ], 
    "metadata": {
        "kernelspec": {
            "display_name": "Python 3.6", 
            "name": "python3", 
            "language": "python"
        }, 
        "language_info": {
            "mimetype": "text/x-python", 
            "nbconvert_exporter": "python", 
            "version": "3.6.8", 
            "name": "python", 
            "file_extension": ".py", 
            "pygments_lexer": "ipython3", 
            "codemirror_mode": {
                "version": 3, 
                "name": "ipython"
            }
        }
    }, 
    "nbformat": 4
}