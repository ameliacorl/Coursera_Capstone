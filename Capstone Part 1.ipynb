{
    "nbformat_minor": 1, 
    "cells": [
        {
            "source": "# Capstone Project: Part 1", 
            "cell_type": "markdown", 
            "metadata": {
                "collapsed": true
            }
        }, 
        {
            "source": "## Introduction", 
            "cell_type": "markdown", 
            "metadata": {}
        }, 
        {
            "source": "In the field of public health, there is a great need for data and data analysis regarding who has access to medical care and who does not. This problem concerns public health practitioners, physicians, community leaders, and governments at the local and state level. Ideally, everyone would have equal access to healthcare. Unfortunately, this is not the case. There are many social and structural disparities that keep people in one neighborhood at a lower level of health than those in another. One such disparity is location of major medical centers. Some areas, typically areas with many low-income families, do not have a local hospital where they can receive quality care. In this project, I will be using the FourSquare data to map which neighborhoods in New York City are medically underserved.", 
            "cell_type": "markdown", 
            "metadata": {}
        }, 
        {
            "source": "## Data", 
            "cell_type": "markdown", 
            "metadata": {}
        }, 
        {
            "source": "For this project, I will be using the FourSquare data, specifically the data regarding hospital location, to identify which NYC neighborhoods do not have an accessible medical center nearby. For the neighborhood mapping, I will be using the NYC data that we used for our lab in Week 3.", 
            "cell_type": "markdown", 
            "metadata": {}
        }, 
        {
            "execution_count": null, 
            "cell_type": "code", 
            "metadata": {}, 
            "outputs": [], 
            "source": ""
        }
    ], 
    "metadata": {
        "kernelspec": {
            "display_name": "Python 3.6", 
            "name": "python3", 
            "language": "python"
        }, 
        "language_info": {
            "mimetype": "text/x-python", 
            "nbconvert_exporter": "python", 
            "version": "3.6.8", 
            "name": "python", 
            "file_extension": ".py", 
            "pygments_lexer": "ipython3", 
            "codemirror_mode": {
                "version": 3, 
                "name": "ipython"
            }
        }
    }, 
    "nbformat": 4
}